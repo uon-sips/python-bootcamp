{
 "cells": [
  {
   "cell_type": "markdown",
   "id": "09f31d53",
   "metadata": {},
   "source": [
    "# My story:\n",
    " - Primary school library!\n",
    " - Lab control software https://github.com/Ulm-IQO/qudi/graphs/contributors\n",
    " - Tech startup: https://www.redback.systems/about-us\n",
    " \n",
    "Coding as hobby led to coding as professional superpower."
   ]
  },
  {
   "cell_type": "markdown",
   "id": "49baaf86",
   "metadata": {},
   "source": [
    "# Python essentials"
   ]
  },
  {
   "cell_type": "markdown",
   "id": "35c3579d",
   "metadata": {},
   "source": [
    "## Jupyter"
   ]
  },
  {
   "cell_type": "markdown",
   "id": "70e8b502",
   "metadata": {},
   "source": [
    "Think in terms of \"cells\", which can have 1-$\\infty$ lines of code! A cell is \"evaluated\" or \"run\" cell-at-a-time.\n",
    "  - `shift+enter` to run cell\n",
    "  - \\# is comment character in python (the remainder of a line is ignored by python interpreter)\n",
    "  - Jupyter notebooks let you write paragraph-style notes in `markdown`"
   ]
  },
  {
   "cell_type": "code",
   "execution_count": null,
   "id": "373fe49d",
   "metadata": {},
   "outputs": [],
   "source": [
    "print('hello world')"
   ]
  },
  {
   "cell_type": "markdown",
   "id": "629de1b1",
   "metadata": {},
   "source": [
    "## Variables and types"
   ]
  },
  {
   "cell_type": "markdown",
   "id": "3e4f31e4",
   "metadata": {},
   "source": [
    "Variables are a key building block (like in algebra). They can have different \"types\", (semi-automatic in python)."
   ]
  },
  {
   "cell_type": "code",
   "execution_count": null,
   "id": "184fc518",
   "metadata": {},
   "outputs": [],
   "source": [
    "a = 3"
   ]
  },
  {
   "cell_type": "code",
   "execution_count": null,
   "id": "dd69864c",
   "metadata": {},
   "outputs": [],
   "source": [
    "# In Jupyter we can see the value by typing just the variable.\n",
    "a"
   ]
  },
  {
   "cell_type": "code",
   "execution_count": null,
   "id": "c3b857a5",
   "metadata": {},
   "outputs": [],
   "source": [
    "# We can always ask to see the value using the `print()` function\n",
    "print(a)"
   ]
  },
  {
   "cell_type": "code",
   "execution_count": null,
   "id": "3cff25e2",
   "metadata": {},
   "outputs": [],
   "source": [
    "type(a)"
   ]
  },
  {
   "cell_type": "markdown",
   "id": "524e3018",
   "metadata": {},
   "source": [
    "> **Try different values for `a` above (including text strings) and check the type**"
   ]
  },
  {
   "cell_type": "markdown",
   "id": "76a3ff16",
   "metadata": {},
   "source": [
    "Python lets us change variable type by assignment. This is fast and easy, but can mean a variable is not the type you think."
   ]
  },
  {
   "cell_type": "code",
   "execution_count": null,
   "id": "c719da7c",
   "metadata": {},
   "outputs": [],
   "source": [
    "b = 3  # initially int"
   ]
  },
  {
   "cell_type": "code",
   "execution_count": null,
   "id": "1252f18a",
   "metadata": {},
   "outputs": [],
   "source": []
  },
  {
   "cell_type": "markdown",
   "id": "6c735106",
   "metadata": {},
   "source": [
    "**Choosing good variable names** makes code much easier to read (even for future you)."
   ]
  },
  {
   "cell_type": "markdown",
   "id": "fa43d9cb",
   "metadata": {},
   "source": [
    "### Watch out for lists!"
   ]
  },
  {
   "cell_type": "markdown",
   "id": "ba47e9e9",
   "metadata": {},
   "source": [
    "Often we want to hold a series of values or things. The native python type is a \"list\", using square brackets."
   ]
  },
  {
   "cell_type": "code",
   "execution_count": null,
   "id": "96b8b532",
   "metadata": {},
   "outputs": [],
   "source": [
    "# can't use 'list' as variable name since it is a python command\n",
    "my_list = [1,3,5,9]"
   ]
  },
  {
   "cell_type": "code",
   "execution_count": null,
   "id": "6c15f7bf",
   "metadata": {},
   "outputs": [],
   "source": [
    "type(my_list)"
   ]
  },
  {
   "cell_type": "code",
   "execution_count": null,
   "id": "ca37c972",
   "metadata": {},
   "outputs": [],
   "source": [
    "# elements have numbered \"addresses\" in a list - NOTE zero-indexing\n",
    "my_list[1]"
   ]
  },
  {
   "cell_type": "code",
   "execution_count": null,
   "id": "7b510514",
   "metadata": {},
   "outputs": [],
   "source": [
    "# Lists can have elements of various types\n",
    "mixed_list = [1, 2, 'foo', 3.1415]\n",
    "type(mixed_list)"
   ]
  },
  {
   "cell_type": "markdown",
   "id": "6781bf32",
   "metadata": {},
   "source": [
    "---\n",
    "\n",
    "## <font color='magenta'>*List variables are actually pointers*</font>\n",
    "<font color='magenta'>*Lists can easily surprise you*</font>"
   ]
  },
  {
   "cell_type": "code",
   "execution_count": null,
   "id": "70aa6f1d",
   "metadata": {},
   "outputs": [],
   "source": [
    "first_list = [1,2,3,4,5]\n",
    "second_list = first_list\n",
    "\n",
    "second_list[2] = 9"
   ]
  },
  {
   "cell_type": "code",
   "execution_count": null,
   "id": "c99e2d30",
   "metadata": {},
   "outputs": [],
   "source": [
    "second_list  # check first_list"
   ]
  },
  {
   "cell_type": "markdown",
   "id": "03547a4d",
   "metadata": {},
   "source": [
    "---"
   ]
  },
  {
   "cell_type": "markdown",
   "id": "4e112047",
   "metadata": {},
   "source": [
    "The main problem physicists have with lists is that they do not behave like we expect for mathematical operations."
   ]
  },
  {
   "cell_type": "code",
   "execution_count": null,
   "id": "33369e21",
   "metadata": {},
   "outputs": [],
   "source": [
    "my_list + my_list"
   ]
  },
  {
   "cell_type": "markdown",
   "id": "d5465b09",
   "metadata": {},
   "source": [
    "> **Try adding a constant, multiplying the list by a scalar, or squaring, or normalising (divide by largest value)**"
   ]
  },
  {
   "cell_type": "markdown",
   "id": "72788e6c",
   "metadata": {},
   "source": [
    "## Our first \"package\", numerical python"
   ]
  },
  {
   "cell_type": "code",
   "execution_count": null,
   "id": "4f1fa6fe",
   "metadata": {},
   "outputs": [],
   "source": [
    "import numpy as np"
   ]
  },
  {
   "cell_type": "code",
   "execution_count": null,
   "id": "ed434bd8",
   "metadata": {},
   "outputs": [],
   "source": [
    "my_vector = np.array(my_list)  # np.array takes a list as an \"argument\" and turns it into a numpy array"
   ]
  },
  {
   "cell_type": "markdown",
   "id": "52a12654",
   "metadata": {},
   "source": [
    "> **Try maths operations on `my_vector`**"
   ]
  },
  {
   "cell_type": "code",
   "execution_count": null,
   "id": "9deb31fd",
   "metadata": {},
   "outputs": [],
   "source": []
  },
  {
   "cell_type": "code",
   "execution_count": null,
   "id": "2a555913",
   "metadata": {},
   "outputs": [],
   "source": []
  },
  {
   "cell_type": "markdown",
   "id": "96046b68",
   "metadata": {},
   "source": [
    "## Loops and iteration"
   ]
  },
  {
   "cell_type": "markdown",
   "id": "a1102547",
   "metadata": {},
   "source": [
    "Loops are the first taste of the power of automation. Can be `for` a certain number of times, or `while` a condition is maintained."
   ]
  },
  {
   "cell_type": "code",
   "execution_count": null,
   "id": "d5fdceb5",
   "metadata": {},
   "outputs": [],
   "source": [
    "for i in range(4):  # By far the most common kind\n",
    "    print(i)        # hanging indent MATTERS"
   ]
  },
  {
   "cell_type": "code",
   "execution_count": null,
   "id": "0bff6e51",
   "metadata": {},
   "outputs": [],
   "source": [
    "count = 0\n",
    "while count < 6:\n",
    "    print(count)\n",
    "    count = count + 1"
   ]
  },
  {
   "cell_type": "markdown",
   "id": "a1e46292",
   "metadata": {},
   "source": [
    "Often the best way to build up to a more complicated loop is to\n",
    "1. fix the iterating variable\n",
    "2. do the task for this one case (can start with multiple cells)\n",
    "3. indent the whole block of code and add a `for` loop over the iterator"
   ]
  },
  {
   "cell_type": "markdown",
   "id": "e2398a4e",
   "metadata": {},
   "source": [
    "> **Print the type of each element in `mixed_list`**"
   ]
  },
  {
   "cell_type": "code",
   "execution_count": null,
   "id": "c13c3f5a",
   "metadata": {},
   "outputs": [],
   "source": [
    "# can use i to iterate index, or can just iterate through elements"
   ]
  },
  {
   "cell_type": "code",
   "execution_count": null,
   "id": "f774f588",
   "metadata": {},
   "outputs": [],
   "source": []
  },
  {
   "cell_type": "markdown",
   "id": "2056fec0",
   "metadata": {},
   "source": [
    "`enumerate` is powerful python magic to combine index iteration with element iteration. Let's say we want to fill `my_list` with the type of each element in `mixed_list`."
   ]
  },
  {
   "cell_type": "code",
   "execution_count": null,
   "id": "92a9c7ac",
   "metadata": {},
   "outputs": [],
   "source": []
  },
  {
   "cell_type": "markdown",
   "id": "1ad8c131",
   "metadata": {},
   "source": [
    "## NEVER DUPLICATE CODE - constants & functions"
   ]
  },
  {
   "cell_type": "markdown",
   "id": "35459453",
   "metadata": {},
   "source": [
    "***Duplicated code is EVIL!*** It can take many forms, from copy-and-paste through to multiple versions of files sitting in folders on your computer. \n",
    " - ~~duplicated code~~ can mean the same variable name is assigned different values \"at the same time\" (inconsistent runtime).\n",
    " - ~~duplicated code~~ is hard to debug, because you might fix it in one place and forget to fix it elsewhere (inconsistent behaviour).\n",
    " - ~~duplicated code~~ is harder to read.\n",
    " \n",
    " ***Evil, evil evil!***\n",
    " \n",
    " Avoid with contants (sometimes nice idea to use all-caps) and custom functions."
   ]
  },
  {
   "cell_type": "code",
   "execution_count": null,
   "id": "a0d9a02a",
   "metadata": {},
   "outputs": [],
   "source": [
    "area = np.pi * 4.5**2\n",
    "\n",
    "circumference = np.pi * 2 * 4.5\n",
    "\n",
    "print(circumference, area)"
   ]
  },
  {
   "cell_type": "markdown",
   "id": "dc21bf9c",
   "metadata": {},
   "source": [
    "> **Fix with named constant**"
   ]
  },
  {
   "cell_type": "markdown",
   "id": "2e9293e8",
   "metadata": {},
   "source": [
    "What if we wanted the value of curcumference+area for a circle? A few circles? ~~Copy and paste block of code for various radius values?~~ **No, define a function!** Think about:\n",
    " - necessary inputs\n",
    " - variable names\n",
    " - layout and structure"
   ]
  },
  {
   "cell_type": "code",
   "execution_count": null,
   "id": "dcd1c56b",
   "metadata": {},
   "outputs": [],
   "source": []
  },
  {
   "cell_type": "code",
   "execution_count": null,
   "id": "80442c92",
   "metadata": {},
   "outputs": [],
   "source": []
  },
  {
   "cell_type": "code",
   "execution_count": null,
   "id": "f2900453",
   "metadata": {},
   "outputs": [],
   "source": []
  },
  {
   "cell_type": "markdown",
   "id": "fa103f36",
   "metadata": {},
   "source": [
    "We've already met some `print()` is a function, `np.array()` is a function. We use many all the time, **always with argument in round brackets**."
   ]
  },
  {
   "cell_type": "code",
   "execution_count": null,
   "id": "f9d1c635",
   "metadata": {},
   "outputs": [],
   "source": [
    "np.sin(np.pi/2)"
   ]
  },
  {
   "cell_type": "code",
   "execution_count": null,
   "id": "c27168c2",
   "metadata": {},
   "outputs": [],
   "source": [
    "np.sqrt(9)"
   ]
  },
  {
   "cell_type": "code",
   "execution_count": null,
   "id": "72a2ef70",
   "metadata": {},
   "outputs": [],
   "source": [
    "np.max(first_list)"
   ]
  },
  {
   "cell_type": "markdown",
   "id": "0c8b2ee0",
   "metadata": {},
   "source": [
    "## Docstrings\n",
    "There's a special kind of comment we can add to describe functions, which provides \"internal documentation\"."
   ]
  },
  {
   "cell_type": "code",
   "execution_count": null,
   "id": "c10a09d9",
   "metadata": {},
   "outputs": [],
   "source": [
    "def area_sq_minus_circ(radius):\n",
    "    \n",
    "    \n",
    "    return"
   ]
  },
  {
   "cell_type": "code",
   "execution_count": null,
   "id": "e5626299",
   "metadata": {},
   "outputs": [],
   "source": []
  },
  {
   "cell_type": "code",
   "execution_count": null,
   "id": "634e447f",
   "metadata": {},
   "outputs": [],
   "source": [
    "# Not required, but standard (best) practice. Try some numpy functions"
   ]
  },
  {
   "cell_type": "code",
   "execution_count": null,
   "id": "a9e96d84",
   "metadata": {},
   "outputs": [],
   "source": []
  },
  {
   "cell_type": "markdown",
   "id": "430daffa",
   "metadata": {},
   "source": [
    "## What's with the dots?\n",
    "We have dots separating `np` from its functions, and now another dot for the internal docstring. Dots indicate a nested heirarchy of structural organisation. \n",
    "\n",
    "We can create our own package (just a separate python file) to demonstrate (on repository as my_pkge.py - download into same folder as this notebook)"
   ]
  },
  {
   "cell_type": "code",
   "execution_count": null,
   "id": "f6ae57e8",
   "metadata": {},
   "outputs": [],
   "source": [
    "import my_pkge"
   ]
  },
  {
   "cell_type": "code",
   "execution_count": null,
   "id": "bf57dcea",
   "metadata": {},
   "outputs": [],
   "source": [
    "my_pkge.get_favourite_subject('lachlan')"
   ]
  },
  {
   "cell_type": "code",
   "execution_count": null,
   "id": "783d4548",
   "metadata": {},
   "outputs": [],
   "source": []
  },
  {
   "cell_type": "code",
   "execution_count": null,
   "id": "7ad6d58f",
   "metadata": {},
   "outputs": [],
   "source": []
  },
  {
   "cell_type": "markdown",
   "id": "60ed1b3d",
   "metadata": {},
   "source": [
    "---\n",
    "\n",
    "## <font color='magenta'>Classes</font>\n",
    "<font color='magenta'>Anyone want to discuss?</font>"
   ]
  },
  {
   "cell_type": "markdown",
   "id": "8b83e8b8",
   "metadata": {},
   "source": [
    "---"
   ]
  },
  {
   "cell_type": "markdown",
   "id": "0d442294",
   "metadata": {},
   "source": [
    "# Common physics tasks"
   ]
  },
  {
   "cell_type": "markdown",
   "id": "69a789d1",
   "metadata": {},
   "source": [
    "## Plot data"
   ]
  },
  {
   "cell_type": "code",
   "execution_count": null,
   "id": "66868406",
   "metadata": {},
   "outputs": [],
   "source": [
    "import matplotlib.pyplot as plt"
   ]
  },
  {
   "cell_type": "markdown",
   "id": "927669a8",
   "metadata": {},
   "source": [
    "***NOTE*** This is getting cumbersome if we need to restart kernel. It is **always** best practice to group all your import commands at the very top of a notebook or script."
   ]
  },
  {
   "cell_type": "code",
   "execution_count": null,
   "id": "44c5c2e9",
   "metadata": {},
   "outputs": [],
   "source": [
    "x_values = np.linspace(0, 3, 100)\n",
    "y_values = x_values**2"
   ]
  },
  {
   "cell_type": "code",
   "execution_count": null,
   "id": "974ca807",
   "metadata": {},
   "outputs": [],
   "source": [
    "plt.plot(x_values, y_values)"
   ]
  },
  {
   "cell_type": "markdown",
   "id": "f5b4d532",
   "metadata": {},
   "source": [
    "There are many valid ways to use matplotlib, and `plt.plot` command is the simplest. I regularly find it more useful to have figure and axis objects explicit."
   ]
  },
  {
   "cell_type": "code",
   "execution_count": null,
   "id": "b2e9545c",
   "metadata": {},
   "outputs": [],
   "source": [
    "fig, ax = plt.subplots()\n",
    "\n",
    "ax.plot(x_values, y_values)"
   ]
  },
  {
   "cell_type": "markdown",
   "id": "bd24d1a6",
   "metadata": {},
   "source": [
    "This is still not good enough for a physics report (or even conference slide). \n",
    " - No axis labels\n",
    " - No units\n",
    " - Lines or markers?\n",
    " - font size?\n",
    " \n",
    "Let me walk through my favourite way to rapidly get a nice production-ready figure."
   ]
  },
  {
   "cell_type": "code",
   "execution_count": null,
   "id": "e54f0ece",
   "metadata": {},
   "outputs": [],
   "source": [
    "fig, ax = plt.subplots()"
   ]
  },
  {
   "cell_type": "code",
   "execution_count": null,
   "id": "c85ddba3",
   "metadata": {},
   "outputs": [],
   "source": [
    "# save to file"
   ]
  },
  {
   "cell_type": "code",
   "execution_count": null,
   "id": "44bda1a1",
   "metadata": {},
   "outputs": [],
   "source": []
  },
  {
   "cell_type": "code",
   "execution_count": null,
   "id": "ccfd2c57",
   "metadata": {},
   "outputs": [],
   "source": []
  },
  {
   "cell_type": "code",
   "execution_count": null,
   "id": "bf9c1948",
   "metadata": {},
   "outputs": [],
   "source": []
  },
  {
   "cell_type": "markdown",
   "id": "e96d6459",
   "metadata": {},
   "source": [
    "## Load data from file"
   ]
  },
  {
   "cell_type": "code",
   "execution_count": null,
   "id": "ca28f506",
   "metadata": {},
   "outputs": [],
   "source": [
    "#np.loadtxt()"
   ]
  },
  {
   "cell_type": "code",
   "execution_count": null,
   "id": "d6b53a2d",
   "metadata": {},
   "outputs": [],
   "source": [
    "# Take slices, rows, columns, transpose"
   ]
  },
  {
   "cell_type": "markdown",
   "id": "7e3c3d5f",
   "metadata": {},
   "source": [
    "## Browsing or looping-over files"
   ]
  },
  {
   "cell_type": "markdown",
   "id": "2655ed1c",
   "metadata": {},
   "source": [
    "It can be nice to be able to browse multiple files from within python"
   ]
  },
  {
   "cell_type": "code",
   "execution_count": null,
   "id": "06c972d0",
   "metadata": {},
   "outputs": [],
   "source": [
    "import os"
   ]
  },
  {
   "cell_type": "code",
   "execution_count": null,
   "id": "b82f2ca9",
   "metadata": {},
   "outputs": [],
   "source": [
    "# Python magic for list processing"
   ]
  },
  {
   "cell_type": "code",
   "execution_count": null,
   "id": "dc51f77f",
   "metadata": {},
   "outputs": [],
   "source": []
  },
  {
   "cell_type": "code",
   "execution_count": null,
   "id": "16336581",
   "metadata": {},
   "outputs": [],
   "source": []
  },
  {
   "cell_type": "markdown",
   "id": "cfa79f49",
   "metadata": {},
   "source": [
    "## Saving data to file\n",
    "***RANT:*** This is one of the most overlooked critical activities for physicists. It is too easy to collect data from lab equipment, process inline, and plot immediately - only to discover a week later that there was a mistake in the analysis and you need to re-run after debugging. If you don't have the raw data then you are in hell. ***Evil laziness***\n",
    "\n",
    "It is **always** worth writing measured data to a file for potential re-examination. **Do use headers** to keep track of notes/metadata."
   ]
  },
  {
   "cell_type": "code",
   "execution_count": null,
   "id": "1e6c7c48",
   "metadata": {},
   "outputs": [],
   "source": [
    "np.savetxt('test.csv', x_values, header='This is dummy data for tutorial purposes\\nAbscissa with linear spacing.')"
   ]
  },
  {
   "cell_type": "code",
   "execution_count": null,
   "id": "fae5eb04",
   "metadata": {},
   "outputs": [],
   "source": [
    "# avoid long lines, hard to read. Create header string first and pass as argument. String + trick."
   ]
  },
  {
   "cell_type": "markdown",
   "id": "618b882b",
   "metadata": {},
   "source": [
    "## Fitting"
   ]
  },
  {
   "cell_type": "markdown",
   "id": "44a26d45",
   "metadata": {},
   "source": [
    "For simple linear/polynomial fits, use `np.polyfit`. For more interesting nonlinear curves we can define a function with our model and use `curve_fit`."
   ]
  },
  {
   "cell_type": "code",
   "execution_count": null,
   "id": "8b79d66d",
   "metadata": {},
   "outputs": [],
   "source": [
    "from scipy.optimize import curve_fit"
   ]
  },
  {
   "cell_type": "code",
   "execution_count": null,
   "id": "de2d4db3",
   "metadata": {},
   "outputs": [],
   "source": []
  }
 ],
 "metadata": {
  "kernelspec": {
   "display_name": "Python 3 (ipykernel)",
   "language": "python",
   "name": "python3"
  },
  "language_info": {
   "codemirror_mode": {
    "name": "ipython",
    "version": 3
   },
   "file_extension": ".py",
   "mimetype": "text/x-python",
   "name": "python",
   "nbconvert_exporter": "python",
   "pygments_lexer": "ipython3",
   "version": "3.11.7"
  }
 },
 "nbformat": 4,
 "nbformat_minor": 5
}
