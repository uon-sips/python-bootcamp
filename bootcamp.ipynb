{
 "cells": [
  {
   "cell_type": "markdown",
   "id": "09f31d53",
   "metadata": {},
   "source": [
    "# My story:\n",
    " - Primary school library!\n",
    " - Lab control software https://github.com/Ulm-IQO/qudi/graphs/contributors\n",
    " - Tech startup: https://www.redback.systems/about-us\n",
    " \n",
    "Coding as hobby led to coding as professional superpower."
   ]
  },
  {
   "cell_type": "markdown",
   "id": "49baaf86",
   "metadata": {},
   "source": [
    "# Python essentials"
   ]
  },
  {
   "cell_type": "markdown",
   "id": "390ed932",
   "metadata": {},
   "source": [
    "Python is almost ubiquitous in many fields of physics and industry. It is increasing in popularity.\n",
    " - https://innovationgraph.github.com/global-metrics/programming-languages\n",
    " - https://www.developernation.net/blog/infographic-programming-languages-adoption-trends-2021\n",
    " \n",
    "Reasons include\n",
    " - Widely available: open source and multi-platform\n",
    " - Modular: extensive ecosystem of specialty packages (eg linear algebra, quantum info toolkit)\n",
    " - Mid-level \"Goldilocks\": easy enough to be fast, deep enough to actually control things (ie hardware interfaces)"
   ]
  },
  {
   "cell_type": "markdown",
   "id": "d62cba73",
   "metadata": {},
   "source": [
    "## Jupyter"
   ]
  },
  {
   "cell_type": "markdown",
   "id": "04242141",
   "metadata": {},
   "source": [
    "Think in terms of \"cells\", which can have 1-$\\infty$ lines of code! A cell is \"evaluated\" or \"run\" cell-at-a-time.\n",
    "  - `shift+enter` to run cell\n",
    "  - \\# is comment character in python (the remainder of a line is ignored by python interpreter)\n",
    "  - Jupyter notebooks let you write paragraph-style notes in `markdown`"
   ]
  },
  {
   "cell_type": "code",
   "execution_count": null,
   "id": "83690513",
   "metadata": {},
   "outputs": [],
   "source": [
    "print('hello world')"
   ]
  },
  {
   "cell_type": "markdown",
   "id": "629de1b1",
   "metadata": {},
   "source": [
    "## Variables and types"
   ]
  },
  {
   "cell_type": "markdown",
   "id": "136e000b",
   "metadata": {},
   "source": [
    "Variables are a key building block (like in algebra). They can have different \"types\", (semi-automatic in python)."
   ]
  },
  {
   "cell_type": "code",
   "execution_count": null,
   "id": "825574b2",
   "metadata": {},
   "outputs": [],
   "source": [
    "a = 3"
   ]
  },
  {
   "cell_type": "code",
   "execution_count": null,
   "id": "e2f8c44d",
   "metadata": {},
   "outputs": [],
   "source": [
    "# In Jupyter we can see the value by typing just the variable.\n",
    "a"
   ]
  },
  {
   "cell_type": "code",
   "execution_count": null,
   "id": "c7001fa8",
   "metadata": {},
   "outputs": [],
   "source": [
    "# We can always ask to see the value using the `print()` function\n",
    "print(a)"
   ]
  },
  {
   "cell_type": "code",
   "execution_count": null,
   "id": "3ae1e61d",
   "metadata": {},
   "outputs": [],
   "source": [
    "type(a)"
   ]
  },
  {
   "cell_type": "markdown",
   "id": "9061c930",
   "metadata": {},
   "source": [
    "> **Try different values for `a` above (including text strings) and check the type**"
   ]
  },
  {
   "cell_type": "markdown",
   "id": "0ee47f99",
   "metadata": {},
   "source": [
    "Python lets us change variable type by assignment. This is fast and easy, but can mean a variable is not the type you think."
   ]
  },
  {
   "cell_type": "code",
   "execution_count": null,
   "id": "d72d064c",
   "metadata": {},
   "outputs": [],
   "source": [
    "b = 3  # initially int"
   ]
  },
  {
   "cell_type": "code",
   "execution_count": null,
   "id": "d43873c7",
   "metadata": {},
   "outputs": [],
   "source": []
  },
  {
   "cell_type": "markdown",
   "id": "14fb6c14",
   "metadata": {},
   "source": [
    "**Choosing good variable names** makes code much easier to read (even for future you)."
   ]
  },
  {
   "cell_type": "markdown",
   "id": "fa43d9cb",
   "metadata": {},
   "source": [
    "### Watch out for lists!"
   ]
  },
  {
   "cell_type": "markdown",
   "id": "64d6b553",
   "metadata": {},
   "source": [
    "Often we want to hold a series of values or things. The native python type is a \"list\", using square brackets."
   ]
  },
  {
   "cell_type": "code",
   "execution_count": null,
   "id": "ef91b112",
   "metadata": {},
   "outputs": [],
   "source": [
    "# can't use 'list' as variable name since it is a python command\n",
    "my_list = [1,3,5,9]"
   ]
  },
  {
   "cell_type": "code",
   "execution_count": null,
   "id": "2d536736",
   "metadata": {},
   "outputs": [],
   "source": [
    "type(my_list)"
   ]
  },
  {
   "cell_type": "code",
   "execution_count": null,
   "id": "f03136d9",
   "metadata": {},
   "outputs": [],
   "source": [
    "# elements have numbered \"addresses\" in a list - NOTE zero-indexing\n",
    "my_list[1]"
   ]
  },
  {
   "cell_type": "code",
   "execution_count": null,
   "id": "f0dbdd95",
   "metadata": {},
   "outputs": [],
   "source": [
    "# Lists can have elements of various types\n",
    "mixed_list = [1, 2, 'foo', 3.1415]\n",
    "type(mixed_list)"
   ]
  },
  {
   "cell_type": "markdown",
   "id": "aebd1343",
   "metadata": {},
   "source": [
    "---\n",
    "\n",
    "## <font color='magenta'>*List variables are actually pointers*</font>\n",
    "<font color='magenta'>*Lists can easily surprise you*</font>"
   ]
  },
  {
   "cell_type": "code",
   "execution_count": null,
   "id": "3bb11ec9",
   "metadata": {},
   "outputs": [],
   "source": [
    "first_list = [1,2,3,4,5]\n",
    "second_list = first_list\n",
    "\n",
    "second_list[2] = 9"
   ]
  },
  {
   "cell_type": "code",
   "execution_count": null,
   "id": "e6a63755",
   "metadata": {},
   "outputs": [],
   "source": [
    "second_list  # check first_list"
   ]
  },
  {
   "cell_type": "markdown",
   "id": "6c93a066",
   "metadata": {},
   "source": [
    "---"
   ]
  },
  {
   "cell_type": "markdown",
   "id": "f6362379",
   "metadata": {},
   "source": [
    "The main problem physicists have with lists is that they do not behave like we expect for mathematical operations."
   ]
  },
  {
   "cell_type": "code",
   "execution_count": null,
   "id": "5819cb57",
   "metadata": {},
   "outputs": [],
   "source": [
    "my_list + my_list"
   ]
  },
  {
   "cell_type": "markdown",
   "id": "3a54110c",
   "metadata": {},
   "source": [
    "> **Try adding a constant, multiplying the list by a scalar, or squaring, or normalising (divide by largest value)**"
   ]
  },
  {
   "cell_type": "markdown",
   "id": "a35d268f",
   "metadata": {},
   "source": [
    "## Our first \"package\", numerical python"
   ]
  },
  {
   "cell_type": "code",
   "execution_count": null,
   "id": "faa3c1d2",
   "metadata": {},
   "outputs": [],
   "source": [
    "import numpy as np"
   ]
  },
  {
   "cell_type": "code",
   "execution_count": null,
   "id": "65be50dd",
   "metadata": {},
   "outputs": [],
   "source": [
    "my_vector = np.array(my_list)  # np.array takes a list as an \"argument\" and turns it into a numpy array"
   ]
  },
  {
   "cell_type": "markdown",
   "id": "f2319459",
   "metadata": {},
   "source": [
    "> **Try maths operations on `my_vector`**"
   ]
  },
  {
   "cell_type": "code",
   "execution_count": null,
   "id": "f0509f16",
   "metadata": {},
   "outputs": [],
   "source": []
  },
  {
   "cell_type": "code",
   "execution_count": null,
   "id": "7ac4bc63",
   "metadata": {},
   "outputs": [],
   "source": []
  },
  {
   "cell_type": "markdown",
   "id": "96046b68",
   "metadata": {},
   "source": [
    "## Loops and iteration"
   ]
  },
  {
   "cell_type": "markdown",
   "id": "7bf116c2",
   "metadata": {},
   "source": [
    "Loops are the first taste of the power of automation. Can be `for` a certain number of times, or `while` a condition is maintained."
   ]
  },
  {
   "cell_type": "code",
   "execution_count": null,
   "id": "98ecf2bc",
   "metadata": {},
   "outputs": [],
   "source": [
    "for i in range(4):  # By far the most common kind\n",
    "    print(i)        # hanging indent MATTERS"
   ]
  },
  {
   "cell_type": "code",
   "execution_count": null,
   "id": "fc7e8802",
   "metadata": {},
   "outputs": [],
   "source": [
    "count = 0\n",
    "while count < 6:\n",
    "    print(count)\n",
    "    count = count + 1"
   ]
  },
  {
   "cell_type": "markdown",
   "id": "5e8657af",
   "metadata": {},
   "source": [
    "Often the best way to build up to a more complicated loop is to\n",
    "1. fix the iterating variable\n",
    "2. do the task for this one case (can start with multiple cells)\n",
    "3. indent the whole block of code and add a `for` loop over the iterator"
   ]
  },
  {
   "cell_type": "markdown",
   "id": "de5ee2b8",
   "metadata": {},
   "source": [
    "> **Print the type of each element in `mixed_list`**"
   ]
  },
  {
   "cell_type": "code",
   "execution_count": null,
   "id": "b5a20669",
   "metadata": {},
   "outputs": [],
   "source": [
    "# can use i to iterate index, or can just iterate through elements"
   ]
  },
  {
   "cell_type": "code",
   "execution_count": null,
   "id": "e379a102",
   "metadata": {},
   "outputs": [],
   "source": []
  },
  {
   "cell_type": "markdown",
   "id": "5d23d5a9",
   "metadata": {},
   "source": [
    "`enumerate` is powerful python magic to combine index iteration with element iteration. Let's say we want to fill `my_list` with the type of each element in `mixed_list`."
   ]
  },
  {
   "cell_type": "code",
   "execution_count": null,
   "id": "72bfab7f",
   "metadata": {},
   "outputs": [],
   "source": []
  },
  {
   "cell_type": "markdown",
   "id": "1ad8c131",
   "metadata": {},
   "source": [
    "## NEVER DUPLICATE CODE - constants & functions"
   ]
  },
  {
   "cell_type": "markdown",
   "id": "e852ebbe",
   "metadata": {},
   "source": [
    "***Duplicated code is EVIL!*** It can take many forms, from copy-and-paste through to multiple versions of files sitting in folders on your computer. \n",
    " - ~~duplicated code~~ can mean the same variable name is assigned different values \"at the same time\" (inconsistent runtime).\n",
    " - ~~duplicated code~~ is hard to debug, because you might fix it in one place and forget to fix it elsewhere (inconsistent behaviour).\n",
    " - ~~duplicated code~~ is harder to read.\n",
    " \n",
    " ***Evil, evil evil!***\n",
    " \n",
    " Avoid with contants (sometimes nice idea to use all-caps) and custom functions."
   ]
  },
  {
   "cell_type": "code",
   "execution_count": null,
   "id": "a69ee662",
   "metadata": {},
   "outputs": [],
   "source": [
    "area = np.pi * 4.5**2\n",
    "\n",
    "circumference = np.pi * 2 * 4.5\n",
    "\n",
    "print(circumference, area)"
   ]
  },
  {
   "cell_type": "markdown",
   "id": "a63c1db3",
   "metadata": {},
   "source": [
    "> **Fix with named constant**"
   ]
  },
  {
   "cell_type": "markdown",
   "id": "e2cd0c1e",
   "metadata": {},
   "source": [
    "What if we wanted the value of curcumference+area for a circle? A few circles? ~~Copy and paste block of code for various radius values?~~ **No, define a function!** Think about:\n",
    " - necessary inputs\n",
    " - variable names\n",
    " - layout and structure"
   ]
  },
  {
   "cell_type": "code",
   "execution_count": null,
   "id": "413ad744",
   "metadata": {},
   "outputs": [],
   "source": []
  },
  {
   "cell_type": "code",
   "execution_count": null,
   "id": "a2c0a18e",
   "metadata": {},
   "outputs": [],
   "source": []
  },
  {
   "cell_type": "code",
   "execution_count": null,
   "id": "31d3d5a2",
   "metadata": {},
   "outputs": [],
   "source": []
  },
  {
   "cell_type": "markdown",
   "id": "34bbe07f",
   "metadata": {},
   "source": [
    "We've already met some `print()` is a function, `np.array()` is a function. We use many all the time, **always with argument in round brackets**."
   ]
  },
  {
   "cell_type": "code",
   "execution_count": null,
   "id": "6721ad84",
   "metadata": {},
   "outputs": [],
   "source": [
    "np.sin(np.pi/2)"
   ]
  },
  {
   "cell_type": "code",
   "execution_count": null,
   "id": "1d7ea8c5",
   "metadata": {},
   "outputs": [],
   "source": [
    "np.sqrt(9)"
   ]
  },
  {
   "cell_type": "code",
   "execution_count": null,
   "id": "012d1e32",
   "metadata": {},
   "outputs": [],
   "source": [
    "np.max(first_list)"
   ]
  },
  {
   "cell_type": "markdown",
   "id": "411d9941",
   "metadata": {},
   "source": [
    "## Docstrings\n",
    "There's a special kind of comment we can add to describe functions, which provides \"internal documentation\"."
   ]
  },
  {
   "cell_type": "code",
   "execution_count": null,
   "id": "c27a86cb",
   "metadata": {},
   "outputs": [],
   "source": [
    "def area_sq_minus_circ(radius):\n",
    "    \n",
    "    \n",
    "    return"
   ]
  },
  {
   "cell_type": "code",
   "execution_count": null,
   "id": "331171b4",
   "metadata": {},
   "outputs": [],
   "source": []
  },
  {
   "cell_type": "code",
   "execution_count": null,
   "id": "5908ef23",
   "metadata": {},
   "outputs": [],
   "source": [
    "# Not required, but standard (best) practice. Try some numpy functions"
   ]
  },
  {
   "cell_type": "code",
   "execution_count": null,
   "id": "70dd3b03",
   "metadata": {},
   "outputs": [],
   "source": []
  },
  {
   "cell_type": "markdown",
   "id": "02d80e88",
   "metadata": {},
   "source": [
    "## What's with the dots?\n",
    "We have dots separating `np` from its functions, and now another dot for the internal docstring. Dots indicate a nested heirarchy of structural organisation. \n",
    "\n",
    "We can create our own package (just a separate python file) to demonstrate (on repository as my_pkge.py - download into same folder as this notebook)"
   ]
  },
  {
   "cell_type": "code",
   "execution_count": null,
   "id": "9d6cdc50",
   "metadata": {},
   "outputs": [],
   "source": [
    "import my_pkge"
   ]
  },
  {
   "cell_type": "code",
   "execution_count": null,
   "id": "1aa2f1e2",
   "metadata": {},
   "outputs": [],
   "source": [
    "my_pkge.get_favourite_subject('lachlan')"
   ]
  },
  {
   "cell_type": "code",
   "execution_count": null,
   "id": "b26033cc",
   "metadata": {},
   "outputs": [],
   "source": []
  },
  {
   "cell_type": "code",
   "execution_count": null,
   "id": "7f305671",
   "metadata": {},
   "outputs": [],
   "source": []
  },
  {
   "cell_type": "markdown",
   "id": "065fb0c6",
   "metadata": {},
   "source": [
    "---\n",
    "\n",
    "## <font color='magenta'>Classes</font>\n",
    "<font color='magenta'>Anyone want to discuss?</font>"
   ]
  },
  {
   "cell_type": "markdown",
   "id": "36db1750",
   "metadata": {},
   "source": [
    "---"
   ]
  },
  {
   "cell_type": "markdown",
   "id": "0d442294",
   "metadata": {},
   "source": [
    "# Common physics tasks"
   ]
  },
  {
   "cell_type": "markdown",
   "id": "69a789d1",
   "metadata": {},
   "source": [
    "## Plot data"
   ]
  },
  {
   "cell_type": "code",
   "execution_count": null,
   "id": "e6a34f5a",
   "metadata": {},
   "outputs": [],
   "source": [
    "import matplotlib.pyplot as plt"
   ]
  },
  {
   "cell_type": "markdown",
   "id": "01098eed",
   "metadata": {},
   "source": [
    "***NOTE*** This is getting cumbersome if we need to restart kernel. It is **always** best practice to group all your import commands at the very top of a notebook or script."
   ]
  },
  {
   "cell_type": "code",
   "execution_count": null,
   "id": "3e734425",
   "metadata": {},
   "outputs": [],
   "source": [
    "x_values = np.linspace(0, 3, 100)\n",
    "y_values = x_values**2"
   ]
  },
  {
   "cell_type": "code",
   "execution_count": null,
   "id": "3684a344",
   "metadata": {},
   "outputs": [],
   "source": [
    "plt.plot(x_values, y_values)"
   ]
  },
  {
   "cell_type": "markdown",
   "id": "b1317db2",
   "metadata": {},
   "source": [
    "There are many valid ways to use matplotlib, and `plt.plot` command is the simplest. I regularly find it more useful to have figure and axis objects explicit."
   ]
  },
  {
   "cell_type": "code",
   "execution_count": null,
   "id": "69a59eec",
   "metadata": {},
   "outputs": [],
   "source": [
    "fig, ax = plt.subplots()\n",
    "\n",
    "ax.plot(x_values, y_values)"
   ]
  },
  {
   "cell_type": "markdown",
   "id": "0a3fb818",
   "metadata": {},
   "source": [
    "This is still not good enough for a physics report (or even conference slide). \n",
    " - No axis labels\n",
    " - No units\n",
    " - Lines or markers?\n",
    " - font size?\n",
    " \n",
    "Let me walk through my favourite way to rapidly get a nice production-ready figure."
   ]
  },
  {
   "cell_type": "code",
   "execution_count": null,
   "id": "d6584887",
   "metadata": {},
   "outputs": [],
   "source": [
    "fig, ax = plt.subplots()"
   ]
  },
  {
   "cell_type": "code",
   "execution_count": null,
   "id": "da99d38d",
   "metadata": {},
   "outputs": [],
   "source": [
    "# save to file"
   ]
  },
  {
   "cell_type": "code",
   "execution_count": null,
   "id": "c4657cd6",
   "metadata": {},
   "outputs": [],
   "source": []
  },
  {
   "cell_type": "code",
   "execution_count": null,
   "id": "d5583a06",
   "metadata": {},
   "outputs": [],
   "source": []
  },
  {
   "cell_type": "markdown",
   "id": "00e84caf",
   "metadata": {},
   "source": [
    "Subplots also makes it easy to get multi-part figures with mroe than one graph.\n",
    " - simmple auto-layout mostly OK\n",
    " - single image to insert into document (control spacing and layout)\n",
    " - can be customised to create intricate figures\n",
    " - can structure with function-per-axis "
   ]
  },
  {
   "cell_type": "code",
   "execution_count": null,
   "id": "f2047e51",
   "metadata": {},
   "outputs": [],
   "source": []
  },
  {
   "cell_type": "code",
   "execution_count": null,
   "id": "a6e8fa6f",
   "metadata": {},
   "outputs": [],
   "source": []
  },
  {
   "cell_type": "markdown",
   "id": "c4a87320",
   "metadata": {},
   "source": [
    "## Some advanced examples\n",
    "Since about 2016 I have used Matplotlib to create figure in my research publications. Journals usually have compact formatting with multi-part figures, which has sometimes been a challenge. Here are some of my own examples:\n",
    " - Spectrum of glowing Silicon-vacancy defects in diamond (https://journals.aps.org/prapplied/abstract/10.1103/PhysRevApplied.11.024073#fulltext).\n",
    "   - Figure with energy diagram, data, complicated combination of uncertainties: https://www.researchgate.net/profile/V-Davydov-2/publication/323141580/figure/fig2/AS:614331536392194@1523479460706/Strain-analysis-of-SiV-centres-in-the-nanodiamond-environment-a-The-SiV-electronic.png\n",
    " - Blinking single-photon sources (https://iopscience.iop.org/article/10.1088/1367-2630/ab1dfd).\n",
    "   - Figure with annotated inset: https://content.cld.iop.org/journals/1367-2630/21/6/063001/revision2/njpab1dfdf1_hr.jpg?Expires=1709857678&Signature=Fs-cnqNPWVmoDEgJ~PCYBTcm56U3~g1l6vkOHVEHioqNQrWzCkDGecLNWkElUjnk2aqzTwngwP1gXAFa3tk6f2sicsfzMhR2UAtByPeIOCtky~hZ7-bS5F2exc5uceyJJhXgQD8IKDopOyBoQ1Owcpo3I79aEN5h4BGJaKkDgHbBwjiXX3mwARNGhNtRECI4FCH1AdsFqxtsdQZS4UzRwIzav4HI5HbQsH1xoHbiF743eJXOJToAejsFygD2ZFWCVwHIpUbJiQ5tEycBgndYpx2tX7YSum0zB6mC5a2zLsLF8x5QJh1-EwDMF7u17dGJ3~w5AIt6agVUFLkVEP-kng__&Key-Pair-Id=KL1D8TIY3N7T8\n",
    "   - Figure with dense combination of colour map and symbols: https://content.cld.iop.org/journals/1367-2630/21/6/063001/revision2/njpab1dfdf6_hr.jpg?Expires=1709857678&Signature=rE7V5vcgqc8L7u9mTrOtudyoJbKKavomNh98A~0WU2dfM5pam38VGSS8r55IXr73ZGyNLMgK9VCCwddYdM~r1IXJpWFET2DkCsbNCFeETzeAwe6vYg1mvM~7AJJY-amQYhNcq5~imcCJgHoDFbWICkuuusauqitGyJqpdep1Dm9YUmFfPaMeAL8WfiE2c5JGK-dDhylKzwY5S490cvFDM58KkrAVGrgaAQdSMwekTp0IC~rvsTUAk8rSh8gvk4Pwj8kuFXEMTOjrJxumP~RdOHU~wq4I4QGOwYyDWYpsizwsZZ0YpYt95tAEKtVvLyTsUupCQhMnpPTV2sxCAPnBpg__&Key-Pair-Id=KL1D8TIY3N7T8\n",
    " - Exciting spectral stability of new Germanium-vacancy centre (https://journals.aps.org/prb/abstract/10.1103/PhysRevB.96.081201#fulltext)\n",
    "   - Figure including photo image and a log time axis! https://journals.aps.org/prb/article/10.1103/PhysRevB.96.081201/figures/1/large\n",
    " - UON teaching lab exciting demo of Redback Systems spectrometer: https://www.redback.systems/spectra-rs10k\n",
    "   - Zeeman splitting of 4 Cadmium transitions\n",
    " - Indistinguishable photons from silicon-vacancy centres (https://www.nature.com/articles/ncomms5739)\n",
    "   - Figure with 2d colour plot, annotated spots, histogram: https://www.nature.com/articles/ncomms5739/figures/3"
   ]
  },
  {
   "cell_type": "markdown",
   "id": "e96d6459",
   "metadata": {},
   "source": [
    "## Load data from file"
   ]
  },
  {
   "cell_type": "code",
   "execution_count": null,
   "id": "c8e4035e",
   "metadata": {},
   "outputs": [],
   "source": [
    "#np.loadtxt()"
   ]
  },
  {
   "cell_type": "code",
   "execution_count": null,
   "id": "26344718",
   "metadata": {},
   "outputs": [],
   "source": [
    "# Take slices, rows, columns, transpose"
   ]
  },
  {
   "cell_type": "markdown",
   "id": "22b7ebe3",
   "metadata": {},
   "source": [
    "## Browsing or looping-over files"
   ]
  },
  {
   "cell_type": "markdown",
   "id": "ed932036",
   "metadata": {},
   "source": [
    "It can be nice to be able to browse multiple files from within python"
   ]
  },
  {
   "cell_type": "code",
   "execution_count": null,
   "id": "e1160c68",
   "metadata": {},
   "outputs": [],
   "source": [
    "import os"
   ]
  },
  {
   "cell_type": "code",
   "execution_count": null,
   "id": "49878221",
   "metadata": {},
   "outputs": [],
   "source": [
    "# Python magic for list processing"
   ]
  },
  {
   "cell_type": "code",
   "execution_count": null,
   "id": "85696a10",
   "metadata": {},
   "outputs": [],
   "source": []
  },
  {
   "cell_type": "code",
   "execution_count": null,
   "id": "651649b1",
   "metadata": {},
   "outputs": [],
   "source": []
  },
  {
   "cell_type": "markdown",
   "id": "a34ec3ce",
   "metadata": {},
   "source": [
    "## Saving data to file\n",
    "***RANT:*** This is one of the most overlooked critical activities for physicists. It is too easy to collect data from lab equipment, process inline, and plot immediately - only to discover a week later that there was a mistake in the analysis and you need to re-run after debugging. If you don't have the raw data then you are in hell. ***Evil laziness***\n",
    "\n",
    "It is **always** worth writing measured data to a file for potential re-examination. **Do use headers** to keep track of notes/metadata."
   ]
  },
  {
   "cell_type": "code",
   "execution_count": null,
   "id": "08edd095",
   "metadata": {},
   "outputs": [],
   "source": [
    "np.savetxt('test.csv', x_values, header='This is dummy data for tutorial purposes\\nAbscissa with linear spacing.')"
   ]
  },
  {
   "cell_type": "code",
   "execution_count": null,
   "id": "ee27877f",
   "metadata": {},
   "outputs": [],
   "source": [
    "# avoid long lines, hard to read. Create header string first and pass as argument. String + trick."
   ]
  },
  {
   "cell_type": "markdown",
   "id": "618b882b",
   "metadata": {},
   "source": [
    "## Fitting"
   ]
  },
  {
   "cell_type": "markdown",
   "id": "36d32804",
   "metadata": {},
   "source": [
    "For simple linear/polynomial fits, use `np.polyfit`. For more interesting nonlinear curves we can define a function with our model and use `curve_fit`."
   ]
  },
  {
   "cell_type": "code",
   "execution_count": null,
   "id": "8b79d66d",
   "metadata": {},
   "outputs": [],
   "source": [
    "from scipy.optimize import curve_fit"
   ]
  },
  {
   "cell_type": "code",
   "execution_count": null,
   "id": "35a4f3ab",
   "metadata": {},
   "outputs": [],
   "source": []
  }
 ],
 "metadata": {
  "kernelspec": {
   "display_name": "Python 3 (ipykernel)",
   "language": "python",
   "name": "python3"
  },
  "language_info": {
   "codemirror_mode": {
    "name": "ipython",
    "version": 3
   },
   "file_extension": ".py",
   "mimetype": "text/x-python",
   "name": "python",
   "nbconvert_exporter": "python",
   "pygments_lexer": "ipython3",
   "version": "3.11.7"
  }
 },
 "nbformat": 4,
 "nbformat_minor": 5
}
