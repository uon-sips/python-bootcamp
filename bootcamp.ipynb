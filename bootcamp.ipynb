{
 "cells": [
  {
   "cell_type": "markdown",
   "id": "09f31d53",
   "metadata": {},
   "source": [
    "# My story:\n",
    " - Primary school library!\n",
    " - Lab control software https://github.com/Ulm-IQO/qudi/graphs/contributors\n",
    " - Tech startup: https://www.redback.systems/about-us\n",
    " \n",
    "Coding as hobby led to coding as professional superpower."
   ]
  },
  {
   "cell_type": "markdown",
   "id": "49baaf86",
   "metadata": {},
   "source": [
    "# Python essentials"
   ]
  },
  {
   "cell_type": "markdown",
   "id": "d6759cd0",
   "metadata": {},
   "source": [
    "## Jupyter"
   ]
  },
  {
   "cell_type": "markdown",
   "id": "a922e9c3",
   "metadata": {},
   "source": [
    "Think in terms of \"cells\", which can have 1-$\\infty$ lines of code! A cell is \"evaluated\" or \"run\" cell-at-a-time.\n",
    "  - `shift+enter` to run cell\n",
    "  - \\# is comment character in python (the remainder of a line is ignored by python interpreter)\n",
    "  - Jupyter notebooks let you write paragraph-style notes in `markdown`"
   ]
  },
  {
   "cell_type": "code",
   "execution_count": null,
   "id": "b1b1f5e5",
   "metadata": {},
   "outputs": [],
   "source": [
    "print('hello world')"
   ]
  },
  {
   "cell_type": "markdown",
   "id": "629de1b1",
   "metadata": {},
   "source": [
    "## Variables and types"
   ]
  },
  {
   "cell_type": "markdown",
   "id": "7b4b7f3a",
   "metadata": {},
   "source": [
    "Variables are a key building block (like in algebra). They can have different \"types\", (semi-automatic in python)."
   ]
  },
  {
   "cell_type": "code",
   "execution_count": null,
   "id": "2e1e6577",
   "metadata": {},
   "outputs": [],
   "source": [
    "a = 3"
   ]
  },
  {
   "cell_type": "code",
   "execution_count": null,
   "id": "6847ccf6",
   "metadata": {},
   "outputs": [],
   "source": [
    "# In Jupyter we can see the value by typing just the variable.\n",
    "a"
   ]
  },
  {
   "cell_type": "code",
   "execution_count": null,
   "id": "b9677fdc",
   "metadata": {},
   "outputs": [],
   "source": [
    "# We can always ask to see the value using the `print()` function\n",
    "print(a)"
   ]
  },
  {
   "cell_type": "code",
   "execution_count": null,
   "id": "eafac819",
   "metadata": {},
   "outputs": [],
   "source": [
    "type(a)"
   ]
  },
  {
   "cell_type": "markdown",
   "id": "2b0fb242",
   "metadata": {},
   "source": [
    "> **Try different values for `a` above (including text strings) and check the type**"
   ]
  },
  {
   "cell_type": "markdown",
   "id": "5595ade6",
   "metadata": {},
   "source": [
    "Python lets us change variable type by assignment. This is fast and easy, but can mean a variable is not the type you think."
   ]
  },
  {
   "cell_type": "code",
   "execution_count": null,
   "id": "995eba0f",
   "metadata": {},
   "outputs": [],
   "source": [
    "b = 3  # initially int"
   ]
  },
  {
   "cell_type": "code",
   "execution_count": null,
   "id": "f4fc8668",
   "metadata": {},
   "outputs": [],
   "source": []
  },
  {
   "cell_type": "markdown",
   "id": "01adcfca",
   "metadata": {},
   "source": [
    "**Choosing good variable names** makes code much easier to read (even for future you)."
   ]
  },
  {
   "cell_type": "markdown",
   "id": "fa43d9cb",
   "metadata": {},
   "source": [
    "### Watch out for lists!"
   ]
  },
  {
   "cell_type": "markdown",
   "id": "f899f70f",
   "metadata": {},
   "source": [
    "Often we want to hold a series of values or things. The native python type is a \"list\", using square brackets."
   ]
  },
  {
   "cell_type": "code",
   "execution_count": null,
   "id": "fda34234",
   "metadata": {},
   "outputs": [],
   "source": [
    "# can't use 'list' as variable name since it is a python command\n",
    "my_list = [1,3,5,9]"
   ]
  },
  {
   "cell_type": "code",
   "execution_count": null,
   "id": "fc536aea",
   "metadata": {},
   "outputs": [],
   "source": [
    "type(my_list)"
   ]
  },
  {
   "cell_type": "code",
   "execution_count": null,
   "id": "989900a1",
   "metadata": {},
   "outputs": [],
   "source": [
    "# elements have numbered \"addresses\" in a list - NOTE zero-indexing\n",
    "my_list[1]"
   ]
  },
  {
   "cell_type": "code",
   "execution_count": null,
   "id": "fbe55d76",
   "metadata": {},
   "outputs": [],
   "source": [
    "# Lists can have elements of various types\n",
    "mixed_list = [1, 2, 'foo', 3.1415]\n",
    "type(mixed_list)"
   ]
  },
  {
   "cell_type": "markdown",
   "id": "b62e08ec",
   "metadata": {},
   "source": [
    "---\n",
    "\n",
    "## <font color='magenta'>*List variables are actually pointers*</font>\n",
    "<font color='magenta'>*Lists can easily surprise you*</font>"
   ]
  },
  {
   "cell_type": "code",
   "execution_count": null,
   "id": "1a75d2ab",
   "metadata": {},
   "outputs": [],
   "source": [
    "first_list = [1,2,3,4,5]\n",
    "second_list = first_list\n",
    "\n",
    "second_list[2] = 9"
   ]
  },
  {
   "cell_type": "code",
   "execution_count": null,
   "id": "e85080e7",
   "metadata": {},
   "outputs": [],
   "source": [
    "second_list  # check first_list"
   ]
  },
  {
   "cell_type": "markdown",
   "id": "29d98d8d",
   "metadata": {},
   "source": [
    "---"
   ]
  },
  {
   "cell_type": "markdown",
   "id": "aca2291a",
   "metadata": {},
   "source": [
    "The main problem physicists have with lists is that they do not behave like we expect for mathematical operations."
   ]
  },
  {
   "cell_type": "code",
   "execution_count": null,
   "id": "c69b48a3",
   "metadata": {},
   "outputs": [],
   "source": [
    "my_list + my_list"
   ]
  },
  {
   "cell_type": "markdown",
   "id": "184ef7fa",
   "metadata": {},
   "source": [
    "> **Try adding a constant, multiplying the list by a scalar, or squaring, or normalising (divide by largest value)**"
   ]
  },
  {
   "cell_type": "markdown",
   "id": "8b1e422d",
   "metadata": {},
   "source": [
    "## Our first \"package\", numerical python"
   ]
  },
  {
   "cell_type": "code",
   "execution_count": 5,
   "id": "c6882865",
   "metadata": {},
   "outputs": [],
   "source": [
    "import numpy as np"
   ]
  },
  {
   "cell_type": "code",
   "execution_count": null,
   "id": "e88fe367",
   "metadata": {},
   "outputs": [],
   "source": [
    "my_vector = np.array(my_list)  # np.array takes a list as an \"argument\" and turns it into a numpy array"
   ]
  },
  {
   "cell_type": "markdown",
   "id": "0b3d8f2c",
   "metadata": {},
   "source": [
    "> **Try maths operations on `my_vector`**"
   ]
  },
  {
   "cell_type": "code",
   "execution_count": null,
   "id": "49dda562",
   "metadata": {},
   "outputs": [],
   "source": []
  },
  {
   "cell_type": "code",
   "execution_count": null,
   "id": "18017c17",
   "metadata": {},
   "outputs": [],
   "source": []
  },
  {
   "cell_type": "markdown",
   "id": "96046b68",
   "metadata": {},
   "source": [
    "## Loops and iteration"
   ]
  },
  {
   "cell_type": "markdown",
   "id": "a082fc71",
   "metadata": {},
   "source": [
    "Loops are the first taste of the power of automation. Can be `for` a certain number of times, or `while` a condition is maintained."
   ]
  },
  {
   "cell_type": "code",
   "execution_count": null,
   "id": "b82c9086",
   "metadata": {},
   "outputs": [],
   "source": [
    "for i in range(4):  # By far the most common kind\n",
    "    print(i)        # hanging indent MATTERS"
   ]
  },
  {
   "cell_type": "code",
   "execution_count": null,
   "id": "5bce1167",
   "metadata": {},
   "outputs": [],
   "source": [
    "count = 0\n",
    "while count < 6:\n",
    "    print(count)\n",
    "    count = count + 1"
   ]
  },
  {
   "cell_type": "markdown",
   "id": "06577c69",
   "metadata": {},
   "source": [
    "Often the best way to build up to a more complicated loop is to\n",
    "1. fix the iterating variable\n",
    "2. do the task for this one case (can start with multiple cells)\n",
    "3. indent the whole block of code and add a `for` loop over the iterator"
   ]
  },
  {
   "cell_type": "markdown",
   "id": "7fbb49a4",
   "metadata": {},
   "source": [
    "> **Print the type of each element in `mixed_list`**"
   ]
  },
  {
   "cell_type": "code",
   "execution_count": null,
   "id": "35a98408",
   "metadata": {},
   "outputs": [],
   "source": [
    "# can use i to iterate index, or can just iterate through elements"
   ]
  },
  {
   "cell_type": "code",
   "execution_count": null,
   "id": "d3053e02",
   "metadata": {},
   "outputs": [],
   "source": []
  },
  {
   "cell_type": "markdown",
   "id": "80659b59",
   "metadata": {},
   "source": [
    "`enumerate` is powerful python magic to combine index iteration with element iteration. Let's say we want to fill `my_list` with the type of each element in `mixed_list`."
   ]
  },
  {
   "cell_type": "code",
   "execution_count": null,
   "id": "70ebec15",
   "metadata": {},
   "outputs": [],
   "source": []
  },
  {
   "cell_type": "markdown",
   "id": "1ad8c131",
   "metadata": {},
   "source": [
    "## NEVER DUPLICATE CODE - constants & functions"
   ]
  },
  {
   "cell_type": "markdown",
   "id": "9fa543a2",
   "metadata": {},
   "source": [
    "***Duplicated code is EVIL!*** It can take many forms, from copy-and-paste through to multiple versions of files sitting in folders on your computer. \n",
    " - ~~duplicated code~~ can mean the same variable name is assigned different values \"at the same time\" (inconsistent runtime).\n",
    " - ~~duplicated code~~ is hard to debug, because you might fix it in one place and forget to fix it elsewhere (inconsistent behaviour).\n",
    " - ~~duplicated code~~ is harder to read.\n",
    " \n",
    " ***Evil, evil evil!***\n",
    " \n",
    " Avoid with contants (sometimes nice idea to use all-caps) and custom functions."
   ]
  },
  {
   "cell_type": "code",
   "execution_count": null,
   "id": "35ccce77",
   "metadata": {},
   "outputs": [],
   "source": [
    "area = np.pi * 4.5**2\n",
    "\n",
    "circumference = np.pi * 2 * 4.5\n",
    "\n",
    "print(circumference, area)"
   ]
  },
  {
   "cell_type": "markdown",
   "id": "d9518dd7",
   "metadata": {},
   "source": [
    "> **Fix with named constant**"
   ]
  },
  {
   "cell_type": "markdown",
   "id": "fb9d7772",
   "metadata": {},
   "source": [
    "What if we wanted the value of curcumference+area for a circle? A few circles? ~~Copy and paste block of code for various radius values?~~ **No, define a function!** Think about:\n",
    " - necessary inputs\n",
    " - variable names\n",
    " - layout and structure"
   ]
  },
  {
   "cell_type": "code",
   "execution_count": null,
   "id": "8ddc704f",
   "metadata": {},
   "outputs": [],
   "source": []
  },
  {
   "cell_type": "code",
   "execution_count": null,
   "id": "e7ae0ecf",
   "metadata": {},
   "outputs": [],
   "source": []
  },
  {
   "cell_type": "code",
   "execution_count": null,
   "id": "ef1fd620",
   "metadata": {},
   "outputs": [],
   "source": []
  },
  {
   "cell_type": "markdown",
   "id": "6c412cc2",
   "metadata": {},
   "source": [
    "We've already met some `print()` is a function, `np.array()` is a function. We use many all the time, **always with argument in round brackets**."
   ]
  },
  {
   "cell_type": "code",
   "execution_count": null,
   "id": "aca09a97",
   "metadata": {},
   "outputs": [],
   "source": [
    "np.sin(np.pi/2)"
   ]
  },
  {
   "cell_type": "code",
   "execution_count": null,
   "id": "77b18fbf",
   "metadata": {},
   "outputs": [],
   "source": [
    "np.sqrt(9)"
   ]
  },
  {
   "cell_type": "code",
   "execution_count": null,
   "id": "f753dfbc",
   "metadata": {},
   "outputs": [],
   "source": [
    "np.max(first_list)"
   ]
  },
  {
   "cell_type": "markdown",
   "id": "9cf2f3f1",
   "metadata": {},
   "source": [
    "## Docstrings\n",
    "There's a special kind of comment we can add to describe functions, which provides \"internal documentation\"."
   ]
  },
  {
   "cell_type": "code",
   "execution_count": null,
   "id": "a16545c6",
   "metadata": {},
   "outputs": [],
   "source": [
    "def area_sq_minus_circ(radius):\n",
    "    \n",
    "    \n",
    "    return"
   ]
  },
  {
   "cell_type": "code",
   "execution_count": null,
   "id": "04db4f34",
   "metadata": {},
   "outputs": [],
   "source": []
  },
  {
   "cell_type": "code",
   "execution_count": null,
   "id": "f74f9753",
   "metadata": {},
   "outputs": [],
   "source": [
    "# Not required, but standard (best) practice. Try some numpy functions"
   ]
  },
  {
   "cell_type": "code",
   "execution_count": null,
   "id": "c6630acd",
   "metadata": {},
   "outputs": [],
   "source": []
  },
  {
   "cell_type": "markdown",
   "id": "837e1355",
   "metadata": {},
   "source": [
    "## What's with the dots?\n",
    "We have dots separating `np` from its functions, and now another dot for the internal docstring. Dots indicate a nested heirarchy of structural organisation. \n",
    "\n",
    "We can create our own package (just a separate python file) to demonstrate (on repository as my_pkge.py - download into same folder as this notebook)"
   ]
  },
  {
   "cell_type": "code",
   "execution_count": 1,
   "id": "223af499",
   "metadata": {},
   "outputs": [],
   "source": [
    "import my_pkge"
   ]
  },
  {
   "cell_type": "code",
   "execution_count": 2,
   "id": "45c77209",
   "metadata": {},
   "outputs": [
    {
     "data": {
      "text/plain": [
       "'physics'"
      ]
     },
     "execution_count": 2,
     "metadata": {},
     "output_type": "execute_result"
    }
   ],
   "source": [
    "my_pkge.get_favourite_subject('lachlan')"
   ]
  },
  {
   "cell_type": "code",
   "execution_count": null,
   "id": "e7d94732",
   "metadata": {},
   "outputs": [],
   "source": []
  },
  {
   "cell_type": "code",
   "execution_count": null,
   "id": "a0322724",
   "metadata": {},
   "outputs": [],
   "source": []
  },
  {
   "cell_type": "markdown",
   "id": "ba7df0dd",
   "metadata": {},
   "source": [
    "---\n",
    "\n",
    "## <font color='magenta'>Classes</font>\n",
    "<font color='magenta'>Anyone want to discuss?</font>"
   ]
  },
  {
   "cell_type": "markdown",
   "id": "bf664928",
   "metadata": {},
   "source": [
    "---"
   ]
  },
  {
   "cell_type": "markdown",
   "id": "0d442294",
   "metadata": {},
   "source": [
    "# Common physics tasks"
   ]
  },
  {
   "cell_type": "markdown",
   "id": "69a789d1",
   "metadata": {},
   "source": [
    "## Plot data"
   ]
  },
  {
   "cell_type": "code",
   "execution_count": 7,
   "id": "437ffc54",
   "metadata": {},
   "outputs": [],
   "source": [
    "import matplotlib.pyplot as plt"
   ]
  },
  {
   "cell_type": "markdown",
   "id": "a3ec0d76",
   "metadata": {},
   "source": [
    "***NOTE*** This is getting cumbersome if we need to restart kernel. It is **always** best practice to group all your import commands at the very top of a notebook or script."
   ]
  },
  {
   "cell_type": "code",
   "execution_count": 8,
   "id": "ef5cbd0c",
   "metadata": {},
   "outputs": [],
   "source": [
    "x_values = np.linspace(0, 3, 100)\n",
    "y_values = x_values**2"
   ]
  },
  {
   "cell_type": "code",
   "execution_count": 9,
   "id": "ff143c1d",
   "metadata": {},
   "outputs": [
    {
     "data": {
      "text/plain": [
       "[<matplotlib.lines.Line2D at 0x7efcb102e050>]"
      ]
     },
     "execution_count": 9,
     "metadata": {},
     "output_type": "execute_result"
    },
    {
     "data": {
      "image/png": "[encoded data removed]",
      "text/plain": [
       "<Figure size 640x480 with 1 Axes>"
      ]
     },
     "metadata": {},
     "output_type": "display_data"
    }
   ],
   "source": [
    "plt.plot(x_values, y_values)"
   ]
  },
  {
   "cell_type": "markdown",
   "id": "d000d0da",
   "metadata": {},
   "source": [
    "There are many valid ways to use matplotlib, and `plt.plot` command is the simplest. I regularly find it more useful to have figure and axis objects explicit."
   ]
  },
  {
   "cell_type": "code",
   "execution_count": 11,
   "id": "887bbeb5",
   "metadata": {},
   "outputs": [
    {
     "data": {
      "text/plain": [
       "[<matplotlib.lines.Line2D at 0x7efcb0a468d0>]"
      ]
     },
     "execution_count": 11,
     "metadata": {},
     "output_type": "execute_result"
    },
    {
     "data": {
      "image/png": "[encoded data removed]",
      "text/plain": [
       "<Figure size 640x480 with 1 Axes>"
      ]
     },
     "metadata": {},
     "output_type": "display_data"
    }
   ],
   "source": [
    "fig, ax = plt.subplots()\n",
    "\n",
    "ax.plot(x_values, y_values)"
   ]
  },
  {
   "cell_type": "markdown",
   "id": "b58b3a7b",
   "metadata": {},
   "source": [
    "This is still not good enough for a physics report (or even conference slide). \n",
    " - No axis labels\n",
    " - No units\n",
    " - Lines or markers?\n",
    " - font size?\n",
    " \n",
    "Let me walk through my favourite way to rapidly get a nice production-ready figure."
   ]
  },
  {
   "cell_type": "code",
   "execution_count": 12,
   "id": "923031a2",
   "metadata": {},
   "outputs": [
    {
     "data": {
      "image/png": "[encoded data removed]",
      "text/plain": [
       "<Figure size 640x480 with 1 Axes>"
      ]
     },
     "metadata": {},
     "output_type": "display_data"
    }
   ],
   "source": [
    "fig, ax = plt.subplots()"
   ]
  },
  {
   "cell_type": "code",
   "execution_count": null,
   "id": "a09f57de",
   "metadata": {},
   "outputs": [],
   "source": []
  },
  {
   "cell_type": "code",
   "execution_count": null,
   "id": "08980df3",
   "metadata": {},
   "outputs": [],
   "source": []
  },
  {
   "cell_type": "code",
   "execution_count": null,
   "id": "98109dc6",
   "metadata": {},
   "outputs": [],
   "source": []
  },
  {
   "cell_type": "code",
   "execution_count": null,
   "id": "6d2d01ce",
   "metadata": {},
   "outputs": [],
   "source": []
  },
  {
   "cell_type": "markdown",
   "id": "e96d6459",
   "metadata": {},
   "source": [
    "## Load data from file"
   ]
  },
  {
   "cell_type": "markdown",
   "id": "618b882b",
   "metadata": {},
   "source": [
    "## Fitting"
   ]
  },
  {
   "cell_type": "code",
   "execution_count": null,
   "id": "8b79d66d",
   "metadata": {},
   "outputs": [],
   "source": []
  }
 ],
 "metadata": {
  "kernelspec": {
   "display_name": "Python 3 (ipykernel)",
   "language": "python",
   "name": "python3"
  },
  "language_info": {
   "codemirror_mode": {
    "name": "ipython",
    "version": 3
   },
   "file_extension": ".py",
   "mimetype": "text/x-python",
   "name": "python",
   "nbconvert_exporter": "python",
   "pygments_lexer": "ipython3",
   "version": "3.11.7"
  }
 },
 "nbformat": 4,
 "nbformat_minor": 5
}
