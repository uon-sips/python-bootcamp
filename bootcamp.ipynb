{
 "cells": [
  {
   "cell_type": "markdown",
   "id": "09f31d53",
   "metadata": {},
   "source": [
    "# My story:\n",
    " - Primary school library!\n",
    " - Lab control software https://github.com/Ulm-IQO/qudi/graphs/contributors\n",
    " - Tech startup: https://www.redback.systems/about-us\n",
    " \n",
    "Coding as hobby led to coding as professional superpower."
   ]
  },
  {
   "cell_type": "markdown",
   "id": "49baaf86",
   "metadata": {},
   "source": [
    "# Python essentials"
   ]
  },
  {
   "cell_type": "markdown",
   "id": "c546e478",
   "metadata": {},
   "source": [
    "## Jupyter"
   ]
  },
  {
   "cell_type": "markdown",
   "id": "8aae4fb6",
   "metadata": {},
   "source": [
    "Think in terms of \"cells\", which can have 1-$\\infty$ lines of code! A cell is \"evaluated\" or \"run\" cell-at-a-time.\n",
    "  - `shift+enter` to run cell\n",
    "  - \\# is comment character in python (the remainder of a line is ignored by python interpreter)\n",
    "  - Jupyter notebooks let you write paragraph-style notes in `markdown`"
   ]
  },
  {
   "cell_type": "code",
   "execution_count": null,
   "id": "3ef1ec5f",
   "metadata": {},
   "outputs": [],
   "source": [
    "print('hello world')"
   ]
  },
  {
   "cell_type": "markdown",
   "id": "629de1b1",
   "metadata": {},
   "source": [
    "## Variables and types"
   ]
  },
  {
   "cell_type": "markdown",
   "id": "ccd45a35",
   "metadata": {},
   "source": [
    "Variables are a key building block (like in algebra). They can have different \"types\", (semi-automatic in python)."
   ]
  },
  {
   "cell_type": "code",
   "execution_count": null,
   "id": "c6eb41dd",
   "metadata": {},
   "outputs": [],
   "source": [
    "a = 3"
   ]
  },
  {
   "cell_type": "code",
   "execution_count": null,
   "id": "4c740658",
   "metadata": {},
   "outputs": [],
   "source": [
    "# In Jupyter we can see the value by typing just the variable.\n",
    "a"
   ]
  },
  {
   "cell_type": "code",
   "execution_count": null,
   "id": "552cdc04",
   "metadata": {},
   "outputs": [],
   "source": [
    "# We can always ask to see the value using the `print()` function\n",
    "print(a)"
   ]
  },
  {
   "cell_type": "code",
   "execution_count": null,
   "id": "90517841",
   "metadata": {},
   "outputs": [],
   "source": [
    "type(a)"
   ]
  },
  {
   "cell_type": "markdown",
   "id": "8bc00d97",
   "metadata": {},
   "source": [
    "> **Try different values for `a` above (including text strings) and check the type**"
   ]
  },
  {
   "cell_type": "markdown",
   "id": "17f6b888",
   "metadata": {},
   "source": [
    "Python lets us change variable type by assignment. This is fast and easy, but can mean a variable is not the type you think."
   ]
  },
  {
   "cell_type": "code",
   "execution_count": null,
   "id": "3a736a46",
   "metadata": {},
   "outputs": [],
   "source": [
    "b = 3  # initially int"
   ]
  },
  {
   "cell_type": "code",
   "execution_count": null,
   "id": "0a8abe07",
   "metadata": {},
   "outputs": [],
   "source": []
  },
  {
   "cell_type": "markdown",
   "id": "f5512a5d",
   "metadata": {},
   "source": [
    "**Choosing good variable names** makes code much easier to read (even for future you)."
   ]
  },
  {
   "cell_type": "markdown",
   "id": "fa43d9cb",
   "metadata": {},
   "source": [
    "### Watch out for lists!"
   ]
  },
  {
   "cell_type": "markdown",
   "id": "95f5b340",
   "metadata": {},
   "source": [
    "Often we want to hold a series of values or things. The native python type is a \"list\", using square brackets."
   ]
  },
  {
   "cell_type": "code",
   "execution_count": null,
   "id": "eb9d9f4d",
   "metadata": {},
   "outputs": [],
   "source": [
    "# can't use 'list' as variable name since it is a python command\n",
    "my_list = [1,3,5,9]"
   ]
  },
  {
   "cell_type": "code",
   "execution_count": null,
   "id": "a92fc0d5",
   "metadata": {},
   "outputs": [],
   "source": [
    "type(my_list)"
   ]
  },
  {
   "cell_type": "code",
   "execution_count": null,
   "id": "71194a62",
   "metadata": {},
   "outputs": [],
   "source": [
    "# elements have numbered \"addresses\" in a list - NOTE zero-indexing\n",
    "my_list[1]"
   ]
  },
  {
   "cell_type": "code",
   "execution_count": null,
   "id": "23840bbb",
   "metadata": {},
   "outputs": [],
   "source": [
    "# Lists can have elements of various types\n",
    "mixed_list = [1, 2, 'foo', 3.1415]\n",
    "type(mixed_list)"
   ]
  },
  {
   "cell_type": "markdown",
   "id": "74ed7565",
   "metadata": {},
   "source": [
    "---\n",
    "\n",
    "## <font color='magenta'>*List variables are actually pointers*</font>\n",
    "<font color='magenta'>*Lists can easily surprise you*</font>"
   ]
  },
  {
   "cell_type": "code",
   "execution_count": null,
   "id": "ec3b42a7",
   "metadata": {},
   "outputs": [],
   "source": [
    "first_list = [1,2,3,4,5]\n",
    "second_list = first_list\n",
    "\n",
    "second_list[2] = 9"
   ]
  },
  {
   "cell_type": "code",
   "execution_count": null,
   "id": "63f08095",
   "metadata": {},
   "outputs": [],
   "source": [
    "second_list  # check first_list"
   ]
  },
  {
   "cell_type": "markdown",
   "id": "38fe3762",
   "metadata": {},
   "source": [
    "---"
   ]
  },
  {
   "cell_type": "markdown",
   "id": "5a3d3f5f",
   "metadata": {},
   "source": [
    "The main problem physicists have with lists is that they do not behave like we expect for mathematical operations."
   ]
  },
  {
   "cell_type": "code",
   "execution_count": null,
   "id": "5169e9cf",
   "metadata": {},
   "outputs": [],
   "source": [
    "my_list + my_list"
   ]
  },
  {
   "cell_type": "markdown",
   "id": "4315d40a",
   "metadata": {},
   "source": [
    "> **Try adding a constant, multiplying the list by a scalar, or squaring, or normalising (divide by largest value)**"
   ]
  },
  {
   "cell_type": "markdown",
   "id": "2cde4994",
   "metadata": {},
   "source": [
    "## Our first \"package\", numerical python"
   ]
  },
  {
   "cell_type": "code",
   "execution_count": null,
   "id": "ea5daca7",
   "metadata": {},
   "outputs": [],
   "source": [
    "import numpy as np"
   ]
  },
  {
   "cell_type": "code",
   "execution_count": null,
   "id": "1cdd70b1",
   "metadata": {},
   "outputs": [],
   "source": [
    "my_vector = np.array(my_list)  # np.array takes a list as an \"argument\" and turns it into a numpy array"
   ]
  },
  {
   "cell_type": "markdown",
   "id": "b7296684",
   "metadata": {},
   "source": [
    "> **Try maths operations on `my_vector`**"
   ]
  },
  {
   "cell_type": "code",
   "execution_count": null,
   "id": "1fbd0494",
   "metadata": {},
   "outputs": [],
   "source": []
  },
  {
   "cell_type": "code",
   "execution_count": null,
   "id": "3c3ff93b",
   "metadata": {},
   "outputs": [],
   "source": []
  },
  {
   "cell_type": "markdown",
   "id": "96046b68",
   "metadata": {},
   "source": [
    "## Loops and iteration"
   ]
  },
  {
   "cell_type": "markdown",
   "id": "54b7a3b5",
   "metadata": {},
   "source": [
    "Loops are the first taste of the power of automation. Can be `for` a certain number of times, or `while` a condition is maintained."
   ]
  },
  {
   "cell_type": "code",
   "execution_count": null,
   "id": "f9a0747a",
   "metadata": {},
   "outputs": [],
   "source": [
    "for i in range(4):  # By far the most common kind\n",
    "    print(i)        # hanging indent MATTERS"
   ]
  },
  {
   "cell_type": "code",
   "execution_count": null,
   "id": "d60d3cd5",
   "metadata": {},
   "outputs": [],
   "source": [
    "count = 0\n",
    "while count < 6:\n",
    "    print(count)\n",
    "    count = count + 1"
   ]
  },
  {
   "cell_type": "markdown",
   "id": "4120bf07",
   "metadata": {},
   "source": [
    "Often the best way to build up to a more complicated loop is to\n",
    "1. fix the iterating variable\n",
    "2. do the task for this one case (can start with multiple cells)\n",
    "3. indent the whole block of code and add a `for` loop over the iterator"
   ]
  },
  {
   "cell_type": "markdown",
   "id": "11488ce4",
   "metadata": {},
   "source": [
    "> **Print the type of each element in `mixed_list`**"
   ]
  },
  {
   "cell_type": "code",
   "execution_count": null,
   "id": "f3ead579",
   "metadata": {},
   "outputs": [],
   "source": [
    "# can use i to iterate index, or can just iterate through elements"
   ]
  },
  {
   "cell_type": "code",
   "execution_count": null,
   "id": "1302691f",
   "metadata": {},
   "outputs": [],
   "source": []
  },
  {
   "cell_type": "markdown",
   "id": "7d775cca",
   "metadata": {},
   "source": [
    "`enumerate` is powerful python magic to combine index iteration with element iteration. Let's say we want to fill `my_list` with the type of each element in `mixed_list`."
   ]
  },
  {
   "cell_type": "code",
   "execution_count": null,
   "id": "67e28fff",
   "metadata": {},
   "outputs": [],
   "source": []
  },
  {
   "cell_type": "markdown",
   "id": "1ad8c131",
   "metadata": {},
   "source": [
    "## NEVER DUPLICATE CODE - constants & functions"
   ]
  },
  {
   "cell_type": "markdown",
   "id": "1aef1768",
   "metadata": {},
   "source": [
    "***Duplicated code is EVIL!*** It can take many forms, from copy-and-paste through to multiple versions of files sitting in folders on your computer. \n",
    " - ~~duplicated code~~ can mean the same variable name is assigned different values \"at the same time\" (inconsistent runtime).\n",
    " - ~~duplicated code~~ is hard to debug, because you might fix it in one place and forget to fix it elsewhere (inconsistent behaviour).\n",
    " - ~~duplicated code~~ is harder to read.\n",
    " \n",
    " ***Evil, evil evil!***\n",
    " \n",
    " Avoid with contants (sometimes nice idea to use all-caps) and custom functions."
   ]
  },
  {
   "cell_type": "code",
   "execution_count": null,
   "id": "40828e01",
   "metadata": {},
   "outputs": [],
   "source": [
    "area = np.pi * 4.5**2\n",
    "\n",
    "circumference = np.pi * 2 * 4.5\n",
    "\n",
    "print(circumference, area)"
   ]
  },
  {
   "cell_type": "markdown",
   "id": "d2be1146",
   "metadata": {},
   "source": [
    "> **Fix with named constant**"
   ]
  },
  {
   "cell_type": "markdown",
   "id": "afb07e88",
   "metadata": {},
   "source": [
    "What if we wanted the value of curcumference+area for a circle? A few circles? ~~Copy and paste block of code for various radius values?~~ **No, define a function!** Think about:\n",
    " - necessary inputs\n",
    " - variable names\n",
    " - layout and structure"
   ]
  },
  {
   "cell_type": "code",
   "execution_count": null,
   "id": "052053b3",
   "metadata": {},
   "outputs": [],
   "source": []
  },
  {
   "cell_type": "code",
   "execution_count": null,
   "id": "c8c31f31",
   "metadata": {},
   "outputs": [],
   "source": []
  },
  {
   "cell_type": "code",
   "execution_count": null,
   "id": "bc00d03e",
   "metadata": {},
   "outputs": [],
   "source": []
  },
  {
   "cell_type": "markdown",
   "id": "8fe90ecf",
   "metadata": {},
   "source": [
    "We've already met some `print()` is a function, `np.array()` is a function. We use many all the time, **always with argument in round brackets**."
   ]
  },
  {
   "cell_type": "code",
   "execution_count": null,
   "id": "2dd51f53",
   "metadata": {},
   "outputs": [],
   "source": [
    "np.sin(np.pi/2)"
   ]
  },
  {
   "cell_type": "code",
   "execution_count": null,
   "id": "5c39bdbf",
   "metadata": {},
   "outputs": [],
   "source": [
    "np.sqrt(9)"
   ]
  },
  {
   "cell_type": "code",
   "execution_count": null,
   "id": "5c83acff",
   "metadata": {},
   "outputs": [],
   "source": [
    "np.max(first_list)"
   ]
  },
  {
   "cell_type": "markdown",
   "id": "ae61f03c",
   "metadata": {},
   "source": [
    "## Docstrings\n",
    "There's a special kind of comment we can add to describe functions, which provides \"internal documentation\"."
   ]
  },
  {
   "cell_type": "code",
   "execution_count": null,
   "id": "8d0fc512",
   "metadata": {},
   "outputs": [],
   "source": [
    "def area_sq_minus_circ(radius):\n",
    "    \n",
    "    \n",
    "    return"
   ]
  },
  {
   "cell_type": "code",
   "execution_count": null,
   "id": "e52796be",
   "metadata": {},
   "outputs": [],
   "source": []
  },
  {
   "cell_type": "code",
   "execution_count": null,
   "id": "811ef989",
   "metadata": {},
   "outputs": [],
   "source": [
    "# Not required, but standard (best) practice. Try some numpy functions"
   ]
  },
  {
   "cell_type": "code",
   "execution_count": null,
   "id": "7318b3ac",
   "metadata": {},
   "outputs": [],
   "source": []
  },
  {
   "cell_type": "markdown",
   "id": "85e2a513",
   "metadata": {},
   "source": [
    "## What's with the dots?\n",
    "We have dots separating `np` from its functions, and now another dot for the internal docstring. Dots indicate a nested heirarchy of structural organisation. We can create our own package (just a separate python file) to demonstrate"
   ]
  },
  {
   "cell_type": "code",
   "execution_count": null,
   "id": "9a78ce5b",
   "metadata": {},
   "outputs": [],
   "source": [
    "import my_pkge"
   ]
  },
  {
   "cell_type": "code",
   "execution_count": null,
   "id": "05ee5e21",
   "metadata": {},
   "outputs": [],
   "source": [
    "my_pkge.get_favourite_subject('lachlan')"
   ]
  },
  {
   "cell_type": "code",
   "execution_count": null,
   "id": "80a3b8c8",
   "metadata": {},
   "outputs": [],
   "source": []
  },
  {
   "cell_type": "code",
   "execution_count": null,
   "id": "305b7aa7",
   "metadata": {},
   "outputs": [],
   "source": []
  },
  {
   "cell_type": "markdown",
   "id": "63e814d1",
   "metadata": {},
   "source": [
    "---\n",
    "\n",
    "## <font color='magenta'>Classes</font>\n",
    "<font color='magenta'>Anyone want to discuss?</font>"
   ]
  },
  {
   "cell_type": "markdown",
   "id": "e1f559c9",
   "metadata": {},
   "source": [
    "---"
   ]
  },
  {
   "cell_type": "markdown",
   "id": "0d442294",
   "metadata": {},
   "source": [
    "# Common physics tasks"
   ]
  },
  {
   "cell_type": "markdown",
   "id": "69a789d1",
   "metadata": {},
   "source": [
    "## Plot data"
   ]
  },
  {
   "cell_type": "markdown",
   "id": "e96d6459",
   "metadata": {},
   "source": [
    "## Load data from file"
   ]
  },
  {
   "cell_type": "markdown",
   "id": "618b882b",
   "metadata": {},
   "source": [
    "## Fitting"
   ]
  },
  {
   "cell_type": "code",
   "execution_count": null,
   "id": "8b79d66d",
   "metadata": {},
   "outputs": [],
   "source": []
  }
 ],
 "metadata": {
  "kernelspec": {
   "display_name": "Python 3 (ipykernel)",
   "language": "python",
   "name": "python3"
  },
  "language_info": {
   "codemirror_mode": {
    "name": "ipython",
    "version": 3
   },
   "file_extension": ".py",
   "mimetype": "text/x-python",
   "name": "python",
   "nbconvert_exporter": "python",
   "pygments_lexer": "ipython3",
   "version": "3.11.7"
  }
 },
 "nbformat": 4,
 "nbformat_minor": 5
}
